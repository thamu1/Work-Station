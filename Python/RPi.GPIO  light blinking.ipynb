{
 "cells": [
  {
   "cell_type": "code",
   "execution_count": 5,
   "id": "7ea90836",
   "metadata": {},
   "outputs": [
    {
     "name": "stdout",
     "output_type": "stream",
     "text": [
      "Note: you may need to restart the kernel to use updated packages.\n"
     ]
    },
    {
     "name": "stderr",
     "output_type": "stream",
     "text": [
      "  ERROR: Command errored out with exit status 1:\n",
      "   command: 'C:\\ProgramData\\Anaconda3\\python.exe' -u -c 'import io, os, sys, setuptools, tokenize; sys.argv[0] = '\"'\"'C:\\\\Users\\\\ThamotharanC\\\\AppData\\\\Local\\\\Temp\\\\pip-install-htivneb_\\\\rpi-gpio_ae5c1ae5962641d2b1a68eb4c3563c97\\\\setup.py'\"'\"'; __file__='\"'\"'C:\\\\Users\\\\ThamotharanC\\\\AppData\\\\Local\\\\Temp\\\\pip-install-htivneb_\\\\rpi-gpio_ae5c1ae5962641d2b1a68eb4c3563c97\\\\setup.py'\"'\"';f = getattr(tokenize, '\"'\"'open'\"'\"', open)(__file__) if os.path.exists(__file__) else io.StringIO('\"'\"'from setuptools import setup; setup()'\"'\"');code = f.read().replace('\"'\"'\\r\\n'\"'\"', '\"'\"'\\n'\"'\"');f.close();exec(compile(code, __file__, '\"'\"'exec'\"'\"'))' bdist_wheel -d 'C:\\Users\\ThamotharanC\\AppData\\Local\\Temp\\pip-wheel-c9swrsi9'\n",
      "       cwd: C:\\Users\\ThamotharanC\\AppData\\Local\\Temp\\pip-install-htivneb_\\rpi-gpio_ae5c1ae5962641d2b1a68eb4c3563c97\\\n",
      "  Complete output (12 lines):\n",
      "  running bdist_wheel\n",
      "  running build\n",
      "  running build_py\n",
      "  creating build\n",
      "  creating build\\lib.win-amd64-3.9\n",
      "  creating build\\lib.win-amd64-3.9\\RPi\n",
      "  copying RPi\\__init__.py -> build\\lib.win-amd64-3.9\\RPi\n",
      "  creating build\\lib.win-amd64-3.9\\RPi\\GPIO\n",
      "  copying RPi\\GPIO\\__init__.py -> build\\lib.win-amd64-3.9\\RPi\\GPIO\n",
      "  running build_ext\n",
      "  building 'RPi._GPIO' extension\n",
      "  error: Microsoft Visual C++ 14.0 or greater is required. Get it with \"Microsoft C++ Build Tools\": https://visualstudio.microsoft.com/visual-cpp-build-tools/\n",
      "  ----------------------------------------\n",
      "  ERROR: Failed building wheel for RPi.GPIO\n",
      "    ERROR: Command errored out with exit status 1:\n",
      "     command: 'C:\\ProgramData\\Anaconda3\\python.exe' -u -c 'import io, os, sys, setuptools, tokenize; sys.argv[0] = '\"'\"'C:\\\\Users\\\\ThamotharanC\\\\AppData\\\\Local\\\\Temp\\\\pip-install-htivneb_\\\\rpi-gpio_ae5c1ae5962641d2b1a68eb4c3563c97\\\\setup.py'\"'\"'; __file__='\"'\"'C:\\\\Users\\\\ThamotharanC\\\\AppData\\\\Local\\\\Temp\\\\pip-install-htivneb_\\\\rpi-gpio_ae5c1ae5962641d2b1a68eb4c3563c97\\\\setup.py'\"'\"';f = getattr(tokenize, '\"'\"'open'\"'\"', open)(__file__) if os.path.exists(__file__) else io.StringIO('\"'\"'from setuptools import setup; setup()'\"'\"');code = f.read().replace('\"'\"'\\r\\n'\"'\"', '\"'\"'\\n'\"'\"');f.close();exec(compile(code, __file__, '\"'\"'exec'\"'\"'))' install --record 'C:\\Users\\ThamotharanC\\AppData\\Local\\Temp\\pip-record-au5vxmzh\\install-record.txt' --single-version-externally-managed --user --prefix= --compile --install-headers 'C:\\Users\\ThamotharanC\\AppData\\Roaming\\Python\\Python39\\Include\\RPi.GPIO'\n",
      "         cwd: C:\\Users\\ThamotharanC\\AppData\\Local\\Temp\\pip-install-htivneb_\\rpi-gpio_ae5c1ae5962641d2b1a68eb4c3563c97\\\n",
      "    Complete output (14 lines):\n",
      "    running install\n",
      "    C:\\ProgramData\\Anaconda3\\lib\\site-packages\\setuptools\\command\\install.py:34: SetuptoolsDeprecationWarning: setup.py install is deprecated. Use build and pip and other standards-based tools.\n",
      "      warnings.warn(\n",
      "    running build\n",
      "    running build_py\n",
      "    creating build\n",
      "    creating build\\lib.win-amd64-3.9\n",
      "    creating build\\lib.win-amd64-3.9\\RPi\n",
      "    copying RPi\\__init__.py -> build\\lib.win-amd64-3.9\\RPi\n",
      "    creating build\\lib.win-amd64-3.9\\RPi\\GPIO\n",
      "    copying RPi\\GPIO\\__init__.py -> build\\lib.win-amd64-3.9\\RPi\\GPIO\n",
      "    running build_ext\n",
      "    building 'RPi._GPIO' extension\n",
      "    error: Microsoft Visual C++ 14.0 or greater is required. Get it with \"Microsoft C++ Build Tools\": https://visualstudio.microsoft.com/visual-cpp-build-tools/\n",
      "    ----------------------------------------\n",
      "ERROR: Command errored out with exit status 1: 'C:\\ProgramData\\Anaconda3\\python.exe' -u -c 'import io, os, sys, setuptools, tokenize; sys.argv[0] = '\"'\"'C:\\\\Users\\\\ThamotharanC\\\\AppData\\\\Local\\\\Temp\\\\pip-install-htivneb_\\\\rpi-gpio_ae5c1ae5962641d2b1a68eb4c3563c97\\\\setup.py'\"'\"'; __file__='\"'\"'C:\\\\Users\\\\ThamotharanC\\\\AppData\\\\Local\\\\Temp\\\\pip-install-htivneb_\\\\rpi-gpio_ae5c1ae5962641d2b1a68eb4c3563c97\\\\setup.py'\"'\"';f = getattr(tokenize, '\"'\"'open'\"'\"', open)(__file__) if os.path.exists(__file__) else io.StringIO('\"'\"'from setuptools import setup; setup()'\"'\"');code = f.read().replace('\"'\"'\\r\\n'\"'\"', '\"'\"'\\n'\"'\"');f.close();exec(compile(code, __file__, '\"'\"'exec'\"'\"'))' install --record 'C:\\Users\\ThamotharanC\\AppData\\Local\\Temp\\pip-record-au5vxmzh\\install-record.txt' --single-version-externally-managed --user --prefix= --compile --install-headers 'C:\\Users\\ThamotharanC\\AppData\\Roaming\\Python\\Python39\\Include\\RPi.GPIO' Check the logs for full command output.\n"
     ]
    },
    {
     "name": "stdout",
     "output_type": "stream",
     "text": [
      "Defaulting to user installation because normal site-packages is not writeable\n",
      "Collecting RPi.GPIO\n",
      "  Using cached RPi.GPIO-0.7.1.tar.gz (29 kB)\n",
      "Building wheels for collected packages: RPi.GPIO\n",
      "  Building wheel for RPi.GPIO (setup.py): started\n",
      "  Building wheel for RPi.GPIO (setup.py): finished with status 'error'\n",
      "  Running setup.py clean for RPi.GPIO\n",
      "Failed to build RPi.GPIO\n",
      "Installing collected packages: RPi.GPIO\n",
      "    Running setup.py install for RPi.GPIO: started\n",
      "    Running setup.py install for RPi.GPIO: finished with status 'error'\n"
     ]
    }
   ],
   "source": [
    "pip install RPi.GPIO"
   ]
  },
  {
   "cell_type": "code",
   "execution_count": null,
   "id": "3afc5317",
   "metadata": {},
   "outputs": [],
   "source": [
    "import RPi.GPIO as GPIO\n",
    "import time\n",
    "GPIO.setmode(GPIO.BCM)\n",
    "cnt = 0\n",
    "FREQ = 1\n",
    "RED_LED = 4\n",
    "GPIO.setup(RED_LED, GPIO.OUT)\n",
    "while True:\n",
    " if cnt == 0 :\n",
    " GPIO.output(RED_LED, False)\n",
    " cnt = 1\n",
    " else:\n",
    " GPIO.output(RED_LED, True)\n",
    " cnt = 0\n",
    "time.sleep(FREQ)\n",
    "GPIO.cleanup()"
   ]
  },
  {
   "cell_type": "code",
   "execution_count": null,
   "id": "c613f5ee",
   "metadata": {},
   "outputs": [],
   "source": []
  }
 ],
 "metadata": {
  "kernelspec": {
   "display_name": "Python 3 (ipykernel)",
   "language": "python",
   "name": "python3"
  },
  "language_info": {
   "codemirror_mode": {
    "name": "ipython",
    "version": 3
   },
   "file_extension": ".py",
   "mimetype": "text/x-python",
   "name": "python",
   "nbconvert_exporter": "python",
   "pygments_lexer": "ipython3",
   "version": "3.9.12"
  }
 },
 "nbformat": 4,
 "nbformat_minor": 5
}
