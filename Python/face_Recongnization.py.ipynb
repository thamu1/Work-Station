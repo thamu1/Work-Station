{
 "cells": [
  {
   "cell_type": "code",
   "execution_count": 1,
   "id": "a38f0979",
   "metadata": {},
   "outputs": [],
   "source": [
    "import cv2"
   ]
  },
  {
   "cell_type": "code",
   "execution_count": 1,
   "id": "9205f943",
   "metadata": {},
   "outputs": [],
   "source": [
    "# path = \"C:/Users/ThamotharanC/OneDrive - Softcrylic LLC/Pictures/Saved Pictures/face_rec/\"\n",
    "# file_path = f\"{path}img.png\""
   ]
  },
  {
   "cell_type": "code",
   "execution_count": 2,
   "id": "5240e5f6",
   "metadata": {},
   "outputs": [],
   "source": [
    "# cap = cv2.VideoCapture(0)\n",
    "# key_to_capture = -1\n",
    "\n",
    "# if not cap.isOpened():\n",
    "#     print(\"Error: Could not open camera.\")\n",
    "\n",
    "# while True:\n",
    "#     # Capture a single frame\n",
    "#     ret, frame = cap.read()\n",
    "\n",
    "#     if not ret:\n",
    "#         print(\"Error: Could not capture frame.\")\n",
    "#         break\n",
    "        \n",
    "#     cv2.imshow(\"your frame\", frame)\n",
    "    \n",
    "#     key = cv2.waitKey(1) # & 0xFF\n",
    "    \n",
    "#     print(key)\n",
    "\n",
    "#     if key > key_to_capture:\n",
    "#         cv2.imwrite(file_path, frame)\n",
    "#         print(f\"Image saved at: {file_path}\")\n",
    "#         break\n",
    "        \n",
    "# cap.release()\n",
    "# cv2.destroyAllWindows()"
   ]
  },
  {
   "cell_type": "code",
   "execution_count": 3,
   "id": "87d713bc",
   "metadata": {},
   "outputs": [
    {
     "name": "stdout",
     "output_type": "stream",
     "text": [
      "crop after click spacebar\n",
      "(150, 30, 275, 347)\n",
      "process finished.\n",
      "['yes', 'yes', 'no', 'no', 'yes']\n"
     ]
    }
   ],
   "source": [
    "import cv2\n",
    "from multiprocessing.pool import ThreadPool as Pool\n",
    "import os\n",
    "import pandas as pd\n",
    "import numpy as np\n",
    "from time import time\n",
    "from datetime import datetime\n",
    "\n",
    "output_path=\"C:/Users/ThamotharanC/OneDrive - Softcrylic LLC/Desktop/Django/facerec/facerecapp/static/img\"\n",
    "pa=output_path\n",
    "new_img_path = f\"{output_path}/thamu.png\"\n",
    "\n",
    "newcv=cv2.imread(new_img_path)      #small\n",
    "\n",
    "image = newcv.copy()\n",
    "\n",
    "print(\"crop after click spacebar\")\n",
    "\n",
    "roi=cv2.selectROI(image)\n",
    "print(roi)\n",
    "\n",
    "roi = [167, 29, 267, 343]\n",
    "\n",
    "im_cropped = image[int(roi[1]):int(roi[1]+roi[3]),int(roi[0]):int(roi[0]+roi[2])]\n",
    "cv2.destroyAllWindows()\n",
    "\n",
    "# cv2.imshow(\"frame\", im_cropped)\n",
    "# key = cv2.waitKey(1)\n",
    "\n",
    "check = []\n",
    "\n",
    "def templatenew(i): \n",
    "\n",
    "\n",
    "    var=\"\"\n",
    "    if(i.endswith('.bmp') or i.endswith('.jpg') or i.endswith('.png') or i.endswith('.jpeg')):\n",
    "        \n",
    "        newcv= im_cropped\n",
    "\n",
    "        serread=cv2.imread(i)  #big \n",
    "        sercv=serread.copy()\n",
    "#             sercv=serread[300:500, :]\n",
    "#             sercv=sercv[int(roi[1]):int(roi[1]+roi[3]),int(roi[0]):int(roi[0]+roi[2])]\n",
    "        nh,nw,ns=newcv.shape\n",
    "        sh,sw,ss=sercv.shape\n",
    "        if(sh>=nh and sw>=nw and ss>=ns):\n",
    "            res=cv2.matchTemplate(sercv,newcv,cv2.TM_CCOEFF_NORMED)\n",
    "            th=0.80\n",
    "            loc=np.where(res>=th)\n",
    "            if(len(loc[0])>0 and len(loc[1])):\n",
    "                var=\"yes\"\n",
    "                savepath=pa+\"/\"+str(time())+\".png\"\n",
    "                for pt in zip(*loc[::-1]):\n",
    "                    cv2.rectangle(sercv,pt,(pt[0]+nw,pt[1]+nh),(0,255,255),2)\n",
    "                cv2.imwrite(savepath,sercv)\n",
    "                # cv2.destroyAllWindows()\n",
    "            else:\n",
    "                var=\"no\"\n",
    "        else:\n",
    "            var=\"no\"\n",
    "\n",
    "        return (var)\n",
    "           \n",
    "\n",
    "search_path=\"C:/Users/ThamotharanC/OneDrive - Softcrylic LLC/Desktop/Django/facerec/facerecapp/static/img\"\n",
    "path_list=[search_path+\"/\"+i for i in os.listdir(search_path)]\n",
    "\n",
    "\n",
    "from multiprocessing.pool import ThreadPool as Pool\n",
    "\n",
    "pool = Pool(10)\n",
    "if __name__==\"__main__\":\n",
    "    for var in pool.map(templatenew,path_list):\n",
    "        check.append(var)\n",
    "        pass\n",
    "        \n",
    "print(\"process finished.\")\n",
    "print(check)"
   ]
  },
  {
   "cell_type": "code",
   "execution_count": null,
   "id": "a039f8bc",
   "metadata": {},
   "outputs": [],
   "source": []
  }
 ],
 "metadata": {
  "kernelspec": {
   "display_name": "Python 3 (ipykernel)",
   "language": "python",
   "name": "python3"
  },
  "language_info": {
   "codemirror_mode": {
    "name": "ipython",
    "version": 3
   },
   "file_extension": ".py",
   "mimetype": "text/x-python",
   "name": "python",
   "nbconvert_exporter": "python",
   "pygments_lexer": "ipython3",
   "version": "3.9.13"
  }
 },
 "nbformat": 4,
 "nbformat_minor": 5
}
