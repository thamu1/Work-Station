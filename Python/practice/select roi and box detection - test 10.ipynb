{
 "cells": [
  {
   "cell_type": "code",
   "execution_count": 1,
   "id": "cc6969aa",
   "metadata": {},
   "outputs": [
    {
     "ename": "ModuleNotFoundError",
     "evalue": "No module named 'multiprocessing.pool'; 'multiprocessing' is not a package",
     "output_type": "error",
     "traceback": [
      "\u001b[1;31m---------------------------------------------------------------------------\u001b[0m",
      "\u001b[1;31mModuleNotFoundError\u001b[0m                       Traceback (most recent call last)",
      "\u001b[1;32md:\\thamu\\code\\python codes\\select roi and box detection - test 10.ipynb Cell 1\u001b[0m line \u001b[0;36m1\n\u001b[0;32m     <a href='vscode-notebook-cell:/d%3A/thamu/code/python%20codes/select%20roi%20and%20box%20detection%20-%20test%2010.ipynb#W0sZmlsZQ%3D%3D?line=10'>11</a>\u001b[0m \u001b[39mfrom\u001b[39;00m \u001b[39mscipy\u001b[39;00m \u001b[39mimport\u001b[39;00m spatial\n\u001b[0;32m     <a href='vscode-notebook-cell:/d%3A/thamu/code/python%20codes/select%20roi%20and%20box%20detection%20-%20test%2010.ipynb#W0sZmlsZQ%3D%3D?line=11'>12</a>\u001b[0m \u001b[39mimport\u001b[39;00m \u001b[39mcv2\u001b[39;00m\n\u001b[1;32m---> <a href='vscode-notebook-cell:/d%3A/thamu/code/python%20codes/select%20roi%20and%20box%20detection%20-%20test%2010.ipynb#W0sZmlsZQ%3D%3D?line=12'>13</a>\u001b[0m \u001b[39mfrom\u001b[39;00m \u001b[39mmultiprocessing\u001b[39;00m\u001b[39m.\u001b[39;00m\u001b[39mpool\u001b[39;00m \u001b[39mimport\u001b[39;00m ThreadPool \u001b[39mas\u001b[39;00m Pool\n",
      "File \u001b[1;32md:\\thamu\\code\\python codes\\multiprocessing.py:5\u001b[0m\n\u001b[0;32m      2\u001b[0m \u001b[39mimport\u001b[39;00m \u001b[39mconcurrent\u001b[39;00m\u001b[39m.\u001b[39;00m\u001b[39mfutures\u001b[39;00m\n\u001b[0;32m      3\u001b[0m \u001b[39mfrom\u001b[39;00m \u001b[39mPIL\u001b[39;00m \u001b[39mimport\u001b[39;00m Image, ImageFilter\n\u001b[1;32m----> 5\u001b[0m \u001b[39mfrom\u001b[39;00m \u001b[39mmultiprocessing\u001b[39;00m\u001b[39m.\u001b[39;00m\u001b[39mpool\u001b[39;00m \u001b[39mimport\u001b[39;00m ThreadPool \u001b[39mas\u001b[39;00m Pool\n\u001b[0;32m      6\u001b[0m \u001b[39mfrom\u001b[39;00m \u001b[39mdatetime\u001b[39;00m \u001b[39mimport\u001b[39;00m datetime\n\u001b[0;32m      8\u001b[0m img_names \u001b[39m=\u001b[39m [\n\u001b[0;32m      9\u001b[0m     \u001b[39m'\u001b[39m\u001b[39mtester0.jpg\u001b[39m\u001b[39m'\u001b[39m,\n\u001b[0;32m     10\u001b[0m     \u001b[39m'\u001b[39m\u001b[39mtester1.jpg\u001b[39m\u001b[39m'\u001b[39m,\n\u001b[1;32m   (...)\u001b[0m\n\u001b[0;32m     27\u001b[0m     \u001b[39m'\u001b[39m\u001b[39mtester18.jpg\u001b[39m\u001b[39m'\u001b[39m,\n\u001b[0;32m     28\u001b[0m     \u001b[39m'\u001b[39m\u001b[39mtester19.jpg\u001b[39m\u001b[39m'\u001b[39m]\n",
      "\u001b[1;31mModuleNotFoundError\u001b[0m: No module named 'multiprocessing.pool'; 'multiprocessing' is not a package"
     ]
    }
   ],
   "source": [
    "import os\n",
    "import pandas as pd\n",
    "import numpy as np\n",
    "from PIL import Image\n",
    "from os import listdir\n",
    "from os.path import isfile, join\n",
    "from datetime import datetime\n",
    "from time import time\n",
    "import glob\n",
    "import itertools\n",
    "from scipy import spatial\n",
    "import cv2\n",
    "from multiprocessing.pool import ThreadPool as Pool"
   ]
  },
  {
   "cell_type": "code",
   "execution_count": 2,
   "id": "5963d48a",
   "metadata": {},
   "outputs": [
    {
     "name": "stdout",
     "output_type": "stream",
     "text": [
      "crop after click spacebar\n",
      "(104, 358, 125, 30)\n"
     ]
    }
   ],
   "source": [
    "# new_img_path='C:/Users/ThamotharanC/OneDrive - Softcrylic LLC/Pictures/Camera Roll/image/1.png'\n",
    "new_img_path = \"C:/Users/ThamotharanC/OneDrive - Softcrylic LLC/Desktop/Django/facerec/facerecapp/static/temp_img/image.png\"\n",
    "image=cv2.imread(new_img_path)\n",
    "\n",
    "print(\"crop after click spacebar\")\n",
    "\n",
    "roi=cv2.selectROI(image)\n",
    "print(roi)\n",
    "\n",
    "im_cropped = image[int(roi[1]):int(roi[1]+roi[3]),int(roi[0]):int(roi[0]+roi[2])]\n",
    "\n",
    "# cv2.imshow(\"Cropped Image\", im_cropped)\n",
    "cv2.waitKey(1)\n",
    "cv2.destroyAllWindows()"
   ]
  },
  {
   "cell_type": "code",
   "execution_count": 4,
   "id": "283e80c0",
   "metadata": {},
   "outputs": [],
   "source": [
    "def templatenew(i): \n",
    "    output_path='C:/Users/ThamotharanC/OneDrive - Softcrylic LLC/Pictures/Camera Roll/thamu'\n",
    "    pa=output_path\n",
    "#     newcv=cv2.imread(new_img_path)      #small\n",
    "    newcv=im_cropped\n",
    "    var=\"\"\n",
    "    if(i.endswith('.bmp') or i.endswith('.jpg') or i.endswith('.png') or i.endswith('.jpeg')):\n",
    "            imfo=i\n",
    "            serread=cv2.imread(i)  #big \n",
    "            sercv=serread\n",
    "#             sercv=serread[300:500, :]\n",
    "#             sercv=sercv[int(roi[1]):int(roi[1]+roi[3]),int(roi[0]):int(roi[0]+roi[2])]\n",
    "            nh,nw,ns=newcv.shape\n",
    "            sh,sw,ss=sercv.shape\n",
    "            if(sh>=nh and sw>=nw and ss>=ns):\n",
    "                res=cv2.matchTemplate(sercv,newcv,cv2.TM_CCOEFF_NORMED)\n",
    "                th=0.80\n",
    "                loc=np.where(res>=th)\n",
    "                if(len(loc[0])>0 and len(loc[1])):\n",
    "                    var=\"yes\"\n",
    "                    savepath=pa+\"/\"+\"pool test/\"+\"sample8\"+\"/\"+str(time())+\".png\"\n",
    "                    for pt in zip(*loc[::-1]):\n",
    "                        cv2.rectangle(sercv,pt,(pt[0]+nw,pt[1]+nh),(0,255,255),2)\n",
    "                    cv2.imwrite(savepath,sercv)\n",
    "                    cv2.destroyAllWindows()\n",
    "                else:\n",
    "                    var=\"no\"\n",
    "            else:\n",
    "                var=\"no\"\n",
    "            return (i,var)\n",
    "           \n",
    "            "
   ]
  },
  {
   "cell_type": "code",
   "execution_count": 5,
   "id": "6017539d",
   "metadata": {},
   "outputs": [],
   "source": [
    "pool_selected=[]\n",
    "pool_path=[]\n",
    "# search_path='C:/Users/ThamotharanC/OneDrive - Softcrylic LLC/Pictures/Camera Roll/image'\n",
    "search_path = \"C:/Users/ThamotharanC/OneDrive - Softcrylic LLC/Desktop/Django/facerec/facerecapp/static/img\"\n",
    "path_list=[search_path+\"/\"+i for i in os.listdir(search_path)]"
   ]
  },
  {
   "cell_type": "code",
   "execution_count": 6,
   "id": "ef659609",
   "metadata": {},
   "outputs": [
    {
     "name": "stdout",
     "output_type": "stream",
     "text": [
      "2022-11-13 23:53:07.464321\n",
      "158.65184783935547\n",
      "2022-11-13 23:55:46.116169\n"
     ]
    }
   ],
   "source": [
    "# from multiprocessing.pool import ThreadPool as Pool\n",
    "st=time()\n",
    "print(datetime.now())\n",
    "\n",
    "pool = Pool(10)\n",
    "if __name__==\"__main__\":\n",
    "    for path,var in pool.map(templatenew,path_list):\n",
    "        pool_path.append(path)\n",
    "        pool_selected.append(var)\n",
    "        \n",
    "et=time()\n",
    "print(et-st)\n",
    "print(datetime.now())"
   ]
  },
  {
   "cell_type": "code",
   "execution_count": null,
   "id": "e7cbb1a2",
   "metadata": {},
   "outputs": [],
   "source": []
  },
  {
   "cell_type": "markdown",
   "id": "b22d6c58",
   "metadata": {},
   "source": [
    "# Detect rectangular and square box "
   ]
  },
  {
   "cell_type": "code",
   "execution_count": null,
   "id": "946e34db",
   "metadata": {},
   "outputs": [],
   "source": [
    "import cv2\n",
    "import numpy as np\n",
    "\n",
    "\n",
    "file='C:/Users/ThamotharanC/OneDrive - Softcrylic LLC/Pictures/Camera Roll/image/t2.png'\n",
    "\n",
    "# Read image\n",
    "img = cv2.imread(file)\n",
    "\n",
    "# threshold red\n",
    "# lower = np.array([0, 0, 0])\n",
    "# upper = np.array([40, 40, 255])\n",
    "\n",
    "lower = np.array([0,0,150])\n",
    "upper = np.array([40, 40, 255])\n",
    "thresh = cv2.inRange(img, lower, upper)\n",
    "\n",
    "# Change non-red to white\n",
    "# result = img.copy()\n",
    "# result[thresh != 255] = (255,255,255)\n",
    "\n",
    "contours,hierarchy = cv2.findContours(thresh, 1, 2)\n",
    "\n",
    "for cnt in contours:\n",
    "    x1,y1 = cnt[0][0]\n",
    "    approx = cv2.approxPolyDP(cnt, 0.01*cv2.arcLength(cnt, True), True)\n",
    "\n",
    "    if len(approx) == 4:\n",
    "        x, y, w, h = cv2.boundingRect(cnt)\n",
    "#         print(x, y, w, h)\n",
    "        ratio = float(w)/h\n",
    "        if(w*h > 100):\n",
    "            if ratio >= 0.9 and ratio <= 1.1:\n",
    "                img = cv2.drawContours(img, [cnt], -1, (0,255,255), 1)\n",
    "                cv2.putText(img, 'Square', (x1, y1), cv2.FONT_HERSHEY_SIMPLEX, 0.6, (255, 255, 0), 1)\n",
    "\n",
    "                \n",
    "#                 print([cnt])\n",
    "            else:\n",
    "                cv2.putText(img, 'Rectangle', (x1, y1), cv2.FONT_HERSHEY_SIMPLEX, 0.6, (0, 255, 0), 1)\n",
    "                img = cv2.drawContours(img, [cnt], -1, (0,255,0), 1)\n",
    "        \n",
    "#                 print(x1,y1)\n",
    "#                 print([cnt])\n",
    "    \n",
    "\n",
    "# save results\n",
    "# cv2.imwrite('red_numerals_thresh.jpg', thresh)\n",
    "# cv2.imwrite('red_numerals_result.jpg', result)\n",
    "\n",
    "# cv2.imshow('thr',thresh)\n",
    "cv2.imshow('thresh', img)\n",
    "# cv2.imshow('result', result)\n",
    "cv2.waitKey(0)\n",
    "cv2.destroyAllWindows()"
   ]
  },
  {
   "cell_type": "code",
   "execution_count": null,
   "id": "81e858b7",
   "metadata": {},
   "outputs": [],
   "source": []
  }
 ],
 "metadata": {
  "kernelspec": {
   "display_name": "Python 3 (ipykernel)",
   "language": "python",
   "name": "python3"
  },
  "language_info": {
   "codemirror_mode": {
    "name": "ipython",
    "version": 3
   },
   "file_extension": ".py",
   "mimetype": "text/x-python",
   "name": "python",
   "nbconvert_exporter": "python",
   "pygments_lexer": "ipython3",
   "version": "3.10.7"
  }
 },
 "nbformat": 4,
 "nbformat_minor": 5
}
