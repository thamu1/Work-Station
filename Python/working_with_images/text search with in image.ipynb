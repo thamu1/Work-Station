{
 "cells": [
  {
   "cell_type": "code",
   "execution_count": 39,
   "id": "54fdbec8",
   "metadata": {},
   "outputs": [],
   "source": [
    "# pip install easyocr\n",
    "\n",
    "import cv2\n",
    "from pylab import rcParams\n",
    "from IPython.display import Image\n",
    "from PIL import Image\n",
    "import os"
   ]
  },
  {
   "cell_type": "code",
   "execution_count": 40,
   "id": "eaa3c46c",
   "metadata": {},
   "outputs": [],
   "source": [
    "os.environ['KMP_DUPLICATE_LIB_OK']='True'\n",
    "import easyocr"
   ]
  },
  {
   "cell_type": "code",
   "execution_count": 41,
   "id": "23834752",
   "metadata": {},
   "outputs": [],
   "source": [
    "# rcParams['figure.figsize']=8,16\n",
    "path='C:/Users/ThamotharanC/OneDrive - Softcrylic LLC/Pictures/Camera Roll/image/something went wrong.png'\n",
    "img=Image.open(path)\n",
    "img.show()"
   ]
  },
  {
   "cell_type": "code",
   "execution_count": 42,
   "id": "8d5df47d",
   "metadata": {},
   "outputs": [
    {
     "name": "stderr",
     "output_type": "stream",
     "text": [
      "CUDA not available - defaulting to CPU. Note: This module is much faster with a GPU.\n"
     ]
    }
   ],
   "source": [
    "reader = easyocr.Reader(['en'])\n",
    "output =reader.readtext(path,detail = 0)    # detail = 0  help to get only text\n",
    "\n",
    "# sr=\"\"\n",
    "# for i in range(len(output)):\n",
    "#     sr+=output[i][1]+\"  \""
   ]
  },
  {
   "cell_type": "code",
   "execution_count": 43,
   "id": "11849a7f",
   "metadata": {},
   "outputs": [
    {
     "name": "stdout",
     "output_type": "stream",
     "text": [
      "['7:51 AM', 'Mon 17 Oct', '29%', 'AA', 'practice-gogetwaggle.com', '0', '8 6', '0', '+', '88', 'Content QA Status Trackerxlsx', 'Waggle', 'Hariharasudhan S - OneDrive', 'Waggle', '9530 points', 'correctl', 'brs4mins', 'LOGOUI', 'TUI', '4ulle Mes. rui lie', 'Esl ui lIe [1IgI IWay, lere IS', 'd Udic', 'How many traffic lights are on', 'light every 3 mile.', 'the county highway?', 'Westboro', 'Click or tap the correct answer:', '12 mi', 'Something went wrong', 'LOGOUT', 'CODE:WG430', 'hTNJ Mjool eslooro', 'Lastund;HMd', 'TOOLS', 'HINTS', 'Done']\n"
     ]
    }
   ],
   "source": [
    "print(output)"
   ]
  },
  {
   "cell_type": "code",
   "execution_count": 5,
   "id": "7bb25ef0",
   "metadata": {
    "scrolled": false
   },
   "outputs": [
    {
     "name": "stderr",
     "output_type": "stream",
     "text": [
      "CUDA not available - defaulting to CPU. Note: This module is much faster with a GPU.\n"
     ]
    }
   ],
   "source": [
    "# print(sr)"
   ]
  },
  {
   "cell_type": "markdown",
   "id": "13894abb",
   "metadata": {},
   "source": [
    "## loop ocr"
   ]
  },
  {
   "cell_type": "code",
   "execution_count": null,
   "id": "8045b218",
   "metadata": {},
   "outputs": [],
   "source": [
    "---"
   ]
  },
  {
   "cell_type": "code",
   "execution_count": 36,
   "id": "23a6aaef",
   "metadata": {},
   "outputs": [
    {
     "name": "stderr",
     "output_type": "stream",
     "text": [
      "CUDA not available - defaulting to CPU. Note: This module is much faster with a GPU.\n"
     ]
    }
   ],
   "source": [
    "path=\"C:/Users/ThamotharanC/OneDrive - Softcrylic LLC/Pictures/Camera Roll/sample_text_img/\"\n",
    "reader = easyocr.Reader(['en'])\n",
    "text_list=[]\n",
    "for imna in os.listdir(path):\n",
    "    pa=path+imna\n",
    "    img=Image.open(pa)\n",
    "#     img.show()\n",
    "    output =reader.readtext(pa,detail = 0)    # detail = 0  help to get only text\n",
    "    text_list.append(output)"
   ]
  },
  {
   "cell_type": "code",
   "execution_count": 38,
   "id": "6f1d8637",
   "metadata": {},
   "outputs": [
    {
     "name": "stdout",
     "output_type": "stream",
     "text": [
      "['Waggle', 'Scrcast', 'recorder is sharing your screen,', 'Stop sharing', 'Hide', 'practice gogetwaggle com student ##goal?classid', '99842263 e613-4geu-3512 041ff23742df_classViewld-53feSbge-b9L/ 47f1-9468-9ScgbbazdUee_subject-Ex', 'Incognito (2)', 'Gmail\"', 'YouTube', 'Maps', 'Waggle', '475 points', 'correctl', 'Lbra2zmina', 'LOGQUI', 'excerpted from Hickory Dickory Dock', 'What do Mr. and Mrs. Mouse', 'do when their home becomes', 'too small for their family?', 'Click or tap the correct answer:', 'clean up their home', 'dig a larger hole', 'look for a larger home', 'move into the clock', 'TEXT', 'HINTS', '\"1 2   3', 'Done', '9 Type here t0 search', \"33'€\", 'ENG', '1631', 'E', '03-0g-2022', 'sctcen =']\n",
      "\n",
      "\n",
      "\n",
      "['Wogze', 'eeond', 'M767uda', 'Mnataati', 'Kadit: BEST', 'JuaX', 'Itintial', 'ctotto', 'Ce', 'Emattg', 'Feeerees', '02610', '382', 'Ipjotrdr', 'Uasn', 'Fead trehtts \"rar', 'TAu ACTFEALEC( [a=ts NEFHEMtaaShdbiaddud Kad orih', 'Enn', 'Sen']\n",
      "\n",
      "\n",
      "\n",
      "['Settings', 'Waggle', '6 7', 'C', 'practice gogetwagg', 'con', 'studenti#/goal?classid=99842263-2613-49e6-3512-d41ffc3742df_classViewld-53fe5b9e-b9b7-47f1-9468-95c9b632dOee_subject ,', 'Waggle ', '220 points', '4 correctl', 'ehrazemins', 'Logout', 'log', 'Disabie cacne', 'No throttling', 'A. Bearg often eat what they find around them.', 'Which sentences from \"AlI', 'Filter', 'Inver:', 'Kinds of Bears', 'BEST', 'Hide daa URL:', 'B. They have', 'memorles', \"support the author's point\", 'FetchXHR', 'CS', 'Img', 'Miedin', 'Font', 'thot bears are smant', 'Ha; blocked cookie;', 'animals? Choose more than', 'Blocked Request', '3rd-pary', 'equests', 'C.Some bears live where if is cold in winter:', 'answer:', 'CoCio m}', 'OCCc j', 'scccoom', 'Click or tap on the text to', 'D: They know where and when to get each kind;', '~select or deselect i. Click or', 'the Resef button to start', 'over', 'Name', 'Waterta', 'TAKE ANOTHER LOOK Yolre closel \\'They have good memories\" iS correct: Butthere is another answer;', 'en ', 'anuafar', 'ccAteca', 'Ene', 'Acirr', 'Shlateulomamathina', 'Jen_', 'TEXT', 'HINTS:', 'DONE', 'S0.', 'Scrcast screen recorder s sharingycur screen', 'Stop sharing', 'Fide', 'ava crips', '596 / 1193 requests', '3,7 MB / 80 MB Dans', '13:10', 'Type here to search', '32*€', 'dMl', 'ENG', '03-09-2022', 'Preserve', 'good', 'Itop', '0l']\n",
      "\n",
      "\n",
      "\n",
      "['Waggle', 'Settings', '6', 'C', 'practice gogetwaggle com/student/#/nome', 'Waggle', 'Hi GrAContent; welcome to', 'GrAContent class', 'ELA', 'ghra2znina', 'LOGOUI', 'Next Missions', 'Practice: Informational Text Style', 'Home', 'COMPLETED MISSIONS', 'Rewards', 'Class', 'View', 'Edit Avatar', 'Select World', 'Scrcast screen recondler s sharingycur screen', 'Stop sharing', 'Fide', '1506', 'Type here to search', \"33'€\", '^ @ k dx', 'ENG', '03-09-2022']\n",
      "\n",
      "\n",
      "\n",
      "['Settings', 'Casnboard - HMH Ed', 'Waggle', 'practice gogetwaggle com /student/#/goal?classid = ZfIda04a-8a42-4331-98cc-f9c8b6f5c395_classViewld =122c6671-f9ca-4333-9401-dbce35250067_subject= =', 'Steps RecaraEr - Recording Noy', '2025 points', '2 correctli', 'Ihcaszmina', 'LOGoUt', 'Pause Record', 'Reccrd', 'Add Comment', 'peunds', 'pounds', 'pounds', 'How', 'packag', 'Seled', 'chat repres ', 'Click', '\"ecr equetio', 'Here is a tipl', 'Take your time and read', 'the question again:', 'Read the hints for helpl', 'Okt', 'You chose an equation with the correct number ofipounds each package weighs as one of the factors 9. The othex', 'Factor should tell how mary packages there are: Count the packages again;', 'ToolS', 'HINTS', '\"1', 'Done', '1828', 'Type here to search', \"31'€\", 'Y2 & 1', 'ENG', 'B}', '05-0g-2022', 'Stop ?']\n",
      "\n",
      "\n",
      "\n",
      "['New Tab', 'Content Testing Updates', 'Content QA Status Tracke X', 'Dashboard', 'HMH Ed', 'Waggle $', '6 + €', 'practice gogetwaggle com/student/#Igoal?classid=88d45a57-7875-422d-b546-72e4495e66e6_classViewld-d8901dd5-e603-49dd-b805-aaf09 _', '1 *', '0 * 0', 'M', 'Waggle', '25 points', '0 correct!', 'brsamins', 'LOGQUI', 'It is a property of one-dimensional figures.', 'Which descriptions are true for', 'volume? Select all that apply.', 'It is a property of two-dimensional figures.', 'Click or', 'the descriptions', 'It is a property of three-dimgnsional figures.', 'It can be measured in square units.', 'It can be measured in cubic units.', 'It can be measured in units.', 'TOOLS', 'HINTS:', '3', 'DONE', '10*40', 'Scrcast screen recorder is', 'sharing your screen:', 'Stop sharing', 'Hide', \"32'€\", '^ +', '@ 4', 'ENG', '06-09-2022', 'tap']\n",
      "\n",
      "\n",
      "\n"
     ]
    }
   ],
   "source": [
    "for i in text_list:\n",
    "    print(i)\n",
    "    print('\\n\\n')"
   ]
  },
  {
   "cell_type": "code",
   "execution_count": null,
   "id": "315ae04f",
   "metadata": {},
   "outputs": [],
   "source": []
  },
  {
   "cell_type": "code",
   "execution_count": null,
   "id": "7d004282",
   "metadata": {},
   "outputs": [],
   "source": []
  },
  {
   "cell_type": "code",
   "execution_count": null,
   "id": "92969458",
   "metadata": {},
   "outputs": [],
   "source": [
    "-----####"
   ]
  },
  {
   "cell_type": "code",
   "execution_count": 42,
   "id": "8d35d26e",
   "metadata": {},
   "outputs": [
    {
     "data": {
      "text/plain": [
       "[([[1, 3], [99, 3], [99, 15], [1, 15]],\n",
       "  \"TakE Another Look '\",\n",
       "  0.1968858714754074)]"
      ]
     },
     "execution_count": 42,
     "metadata": {},
     "output_type": "execute_result"
    }
   ],
   "source": [
    "img=Image.open(path)\n",
    "output=reader.readtext(path)\n",
    "output"
   ]
  },
  {
   "cell_type": "code",
   "execution_count": null,
   "id": "35d0c22f",
   "metadata": {},
   "outputs": [],
   "source": []
  },
  {
   "cell_type": "markdown",
   "id": "1e6723a7",
   "metadata": {},
   "source": [
    "## pytesseract "
   ]
  },
  {
   "cell_type": "code",
   "execution_count": null,
   "id": "d10740f7",
   "metadata": {},
   "outputs": [],
   "source": [
    "\n",
    "#run pytesseract in file\n",
    "\n",
    "# pip install pytesseract     \n",
    "\n",
    "\n",
    "# from PIL import Image\n",
    "# from pytesseract import pytesseract\n",
    "\n",
    "\n",
    "# img crop\n",
    "# ---> [+ left , + top, - right, - bottom]\n",
    "\n",
    "# cimg=img.crop((0, 350, 600, 438))\n",
    "# cimg\n",
    "\n",
    "\n",
    "# pytesseract.tesseract_cmd='D:/tesseract/tesseract.exe'\n",
    "# # pytesseract.tesseract_cmd=teseract_path\n",
    "# path='C:/Users/ThamotharanC/OneDrive - Softcrylic LLC/Pictures/Camera Roll/image/57.png'\n",
    "# img=Image.open(path)\n",
    "# cimg=img.crop((0, 350, 600, 438))\n",
    "# # cimg\n",
    "\n",
    "# custom_config = r'--oem 3 --psm 6'\n",
    "# #tessedit_char_whitelist=ABCDEFG0123456789'\n",
    "\n",
    "# text = pytesseract.image_to_string(cimg,lang=\"eng\",config=custom_config)  #,lang=\"eng\"  #,config=custom_config\n",
    "# # config='--psm 13 --oem 1 -c tessedit_char_whitelist=ABCDEFG0123456789'\n",
    "# text\n",
    "\n",
    "# # img.show()"
   ]
  }
 ],
 "metadata": {
  "kernelspec": {
   "display_name": "Python 3 (ipykernel)",
   "language": "python",
   "name": "python3"
  },
  "language_info": {
   "codemirror_mode": {
    "name": "ipython",
    "version": 3
   },
   "file_extension": ".py",
   "mimetype": "text/x-python",
   "name": "python",
   "nbconvert_exporter": "python",
   "pygments_lexer": "ipython3",
   "version": "3.9.12"
  }
 },
 "nbformat": 4,
 "nbformat_minor": 5
}
